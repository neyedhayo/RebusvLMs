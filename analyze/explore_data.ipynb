{
 "cells": [
  {
   "cell_type": "markdown",
   "metadata": {},
   "source": [
    "# checklist"
   ]
  },
  {
   "cell_type": "code",
   "execution_count": 14,
   "metadata": {},
   "outputs": [],
   "source": [
    "import pandas as pd"
   ]
  },
  {
   "cell_type": "code",
   "execution_count": 15,
   "metadata": {},
   "outputs": [],
   "source": [
    "data = pd.read_csv('../data/raw/Anon.csv', \n",
    "                #  sheet_name='Sheet3',\n",
    "                #  header=1,\n",
    "                 sep=',',\n",
    "                 dtype=str,\n",
    "                 on_bad_lines='skip')"
   ]
  },
  {
   "cell_type": "code",
   "execution_count": 16,
   "metadata": {},
   "outputs": [
    {
     "data": {
      "text/html": [
       "<div>\n",
       "<style scoped>\n",
       "    .dataframe tbody tr th:only-of-type {\n",
       "        vertical-align: middle;\n",
       "    }\n",
       "\n",
       "    .dataframe tbody tr th {\n",
       "        vertical-align: top;\n",
       "    }\n",
       "\n",
       "    .dataframe thead th {\n",
       "        text-align: right;\n",
       "    }\n",
       "</style>\n",
       "<table border=\"1\" class=\"dataframe\">\n",
       "  <thead>\n",
       "    <tr style=\"text-align: right;\">\n",
       "      <th></th>\n",
       "      <th>Filename</th>\n",
       "      <th>Solution</th>\n",
       "      <th>Difficulty</th>\n",
       "    </tr>\n",
       "  </thead>\n",
       "  <tbody>\n",
       "    <tr>\n",
       "      <th>0</th>\n",
       "      <td>001</td>\n",
       "      <td>A drop in the bucket</td>\n",
       "      <td>Easy</td>\n",
       "    </tr>\n",
       "    <tr>\n",
       "      <th>1</th>\n",
       "      <td>002</td>\n",
       "      <td>first edition</td>\n",
       "      <td>Easy</td>\n",
       "    </tr>\n",
       "    <tr>\n",
       "      <th>2</th>\n",
       "      <td>003</td>\n",
       "      <td>kick the bucket</td>\n",
       "      <td>Easy</td>\n",
       "    </tr>\n",
       "    <tr>\n",
       "      <th>3</th>\n",
       "      <td>004</td>\n",
       "      <td>feeling under the weather</td>\n",
       "      <td>Easy</td>\n",
       "    </tr>\n",
       "    <tr>\n",
       "      <th>4</th>\n",
       "      <td>005</td>\n",
       "      <td>don't cut corners</td>\n",
       "      <td>Hard</td>\n",
       "    </tr>\n",
       "  </tbody>\n",
       "</table>\n",
       "</div>"
      ],
      "text/plain": [
       "  Filename                   Solution Difficulty\n",
       "0      001       A drop in the bucket       Easy\n",
       "1      002              first edition       Easy\n",
       "2      003            kick the bucket       Easy\n",
       "3      004  feeling under the weather       Easy\n",
       "4      005          don't cut corners       Hard"
      ]
     },
     "execution_count": 16,
     "metadata": {},
     "output_type": "execute_result"
    }
   ],
   "source": [
    "data.head()"
   ]
  },
  {
   "cell_type": "code",
   "execution_count": 17,
   "metadata": {},
   "outputs": [],
   "source": [
    "data_f = data[['Filename', 'Solution']].copy()"
   ]
  },
  {
   "cell_type": "code",
   "execution_count": 18,
   "metadata": {},
   "outputs": [
    {
     "data": {
      "text/html": [
       "<div>\n",
       "<style scoped>\n",
       "    .dataframe tbody tr th:only-of-type {\n",
       "        vertical-align: middle;\n",
       "    }\n",
       "\n",
       "    .dataframe tbody tr th {\n",
       "        vertical-align: top;\n",
       "    }\n",
       "\n",
       "    .dataframe thead th {\n",
       "        text-align: right;\n",
       "    }\n",
       "</style>\n",
       "<table border=\"1\" class=\"dataframe\">\n",
       "  <thead>\n",
       "    <tr style=\"text-align: right;\">\n",
       "      <th></th>\n",
       "      <th>Filename</th>\n",
       "      <th>Solution</th>\n",
       "    </tr>\n",
       "  </thead>\n",
       "  <tbody>\n",
       "    <tr>\n",
       "      <th>0</th>\n",
       "      <td>001</td>\n",
       "      <td>A drop in the bucket</td>\n",
       "    </tr>\n",
       "    <tr>\n",
       "      <th>1</th>\n",
       "      <td>002</td>\n",
       "      <td>first edition</td>\n",
       "    </tr>\n",
       "    <tr>\n",
       "      <th>2</th>\n",
       "      <td>003</td>\n",
       "      <td>kick the bucket</td>\n",
       "    </tr>\n",
       "    <tr>\n",
       "      <th>3</th>\n",
       "      <td>004</td>\n",
       "      <td>feeling under the weather</td>\n",
       "    </tr>\n",
       "    <tr>\n",
       "      <th>4</th>\n",
       "      <td>005</td>\n",
       "      <td>don't cut corners</td>\n",
       "    </tr>\n",
       "  </tbody>\n",
       "</table>\n",
       "</div>"
      ],
      "text/plain": [
       "  Filename                   Solution\n",
       "0      001       A drop in the bucket\n",
       "1      002              first edition\n",
       "2      003            kick the bucket\n",
       "3      004  feeling under the weather\n",
       "4      005          don't cut corners"
      ]
     },
     "execution_count": 18,
     "metadata": {},
     "output_type": "execute_result"
    }
   ],
   "source": [
    "data_f.head()"
   ]
  },
  {
   "cell_type": "code",
   "execution_count": 19,
   "metadata": {},
   "outputs": [
    {
     "name": "stdout",
     "output_type": "stream",
     "text": [
      "['Filename', 'Solution']\n"
     ]
    }
   ],
   "source": [
    "print(data_f.columns.tolist())"
   ]
  },
  {
   "cell_type": "code",
   "execution_count": 20,
   "metadata": {},
   "outputs": [
    {
     "name": "stdout",
     "output_type": "stream",
     "text": [
      "Filename    object\n",
      "Solution    object\n",
      "dtype: object\n"
     ]
    }
   ],
   "source": [
    "print(data_f.dtypes)"
   ]
  },
  {
   "cell_type": "code",
   "execution_count": 21,
   "metadata": {},
   "outputs": [
    {
     "name": "stdout",
     "output_type": "stream",
     "text": [
      "0         A drop in the bucket\n",
      "1                first edition\n",
      "2              kick the bucket\n",
      "3    feeling under the weather\n",
      "4            don't cut corners\n",
      "Name: Solution, dtype: object\n"
     ]
    }
   ],
   "source": [
    "print(data_f['Solution'].head())"
   ]
  },
  {
   "cell_type": "code",
   "execution_count": 22,
   "metadata": {},
   "outputs": [],
   "source": [
    "data_f.dropna(how='all', inplace=True)"
   ]
  },
  {
   "cell_type": "code",
   "execution_count": 23,
   "metadata": {},
   "outputs": [],
   "source": [
    "data_f.to_csv('../data/raw/annotations.csv', index=False)"
   ]
  },
  {
   "cell_type": "code",
   "execution_count": 24,
   "metadata": {},
   "outputs": [],
   "source": [
    "import pandas as pd"
   ]
  },
  {
   "cell_type": "code",
   "execution_count": 25,
   "metadata": {},
   "outputs": [
    {
     "data": {
      "text/html": [
       "<div>\n",
       "<style scoped>\n",
       "    .dataframe tbody tr th:only-of-type {\n",
       "        vertical-align: middle;\n",
       "    }\n",
       "\n",
       "    .dataframe tbody tr th {\n",
       "        vertical-align: top;\n",
       "    }\n",
       "\n",
       "    .dataframe thead th {\n",
       "        text-align: right;\n",
       "    }\n",
       "</style>\n",
       "<table border=\"1\" class=\"dataframe\">\n",
       "  <thead>\n",
       "    <tr style=\"text-align: right;\">\n",
       "      <th></th>\n",
       "      <th>Filename</th>\n",
       "      <th>Solution</th>\n",
       "    </tr>\n",
       "  </thead>\n",
       "  <tbody>\n",
       "    <tr>\n",
       "      <th>0</th>\n",
       "      <td>1</td>\n",
       "      <td>A drop in the bucket</td>\n",
       "    </tr>\n",
       "    <tr>\n",
       "      <th>1</th>\n",
       "      <td>2</td>\n",
       "      <td>first edition</td>\n",
       "    </tr>\n",
       "    <tr>\n",
       "      <th>2</th>\n",
       "      <td>3</td>\n",
       "      <td>kick the bucket</td>\n",
       "    </tr>\n",
       "    <tr>\n",
       "      <th>3</th>\n",
       "      <td>4</td>\n",
       "      <td>feeling under the weather</td>\n",
       "    </tr>\n",
       "    <tr>\n",
       "      <th>4</th>\n",
       "      <td>5</td>\n",
       "      <td>don't cut corners</td>\n",
       "    </tr>\n",
       "  </tbody>\n",
       "</table>\n",
       "</div>"
      ],
      "text/plain": [
       "   Filename                   Solution\n",
       "0         1       A drop in the bucket\n",
       "1         2              first edition\n",
       "2         3            kick the bucket\n",
       "3         4  feeling under the weather\n",
       "4         5          don't cut corners"
      ]
     },
     "execution_count": 25,
     "metadata": {},
     "output_type": "execute_result"
    }
   ],
   "source": [
    "annot = pd.read_csv(\"../data/raw/annotations.csv\", \n",
    "                   quotechar='\"',  # Specify quote character\n",
    "                   skipinitialspace=True,  # Skip spaces after delimiter\n",
    "                   encoding='utf-8')  # Specify encoding\n",
    "annot.head()"
   ]
  },
  {
   "cell_type": "code",
   "execution_count": 26,
   "metadata": {},
   "outputs": [
    {
     "data": {
      "text/html": [
       "<div>\n",
       "<style scoped>\n",
       "    .dataframe tbody tr th:only-of-type {\n",
       "        vertical-align: middle;\n",
       "    }\n",
       "\n",
       "    .dataframe tbody tr th {\n",
       "        vertical-align: top;\n",
       "    }\n",
       "\n",
       "    .dataframe thead th {\n",
       "        text-align: right;\n",
       "    }\n",
       "</style>\n",
       "<table border=\"1\" class=\"dataframe\">\n",
       "  <thead>\n",
       "    <tr style=\"text-align: right;\">\n",
       "      <th></th>\n",
       "      <th>Filename</th>\n",
       "      <th>Solution</th>\n",
       "    </tr>\n",
       "  </thead>\n",
       "  <tbody>\n",
       "    <tr>\n",
       "      <th>50</th>\n",
       "      <td>51</td>\n",
       "      <td>Side burns</td>\n",
       "    </tr>\n",
       "    <tr>\n",
       "      <th>51</th>\n",
       "      <td>52</td>\n",
       "      <td>Carbon footprint</td>\n",
       "    </tr>\n",
       "    <tr>\n",
       "      <th>52</th>\n",
       "      <td>53</td>\n",
       "      <td>Back to school</td>\n",
       "    </tr>\n",
       "    <tr>\n",
       "      <th>53</th>\n",
       "      <td>54</td>\n",
       "      <td>A wolf in sheep's clothing</td>\n",
       "    </tr>\n",
       "    <tr>\n",
       "      <th>54</th>\n",
       "      <td>55</td>\n",
       "      <td>Time is money</td>\n",
       "    </tr>\n",
       "    <tr>\n",
       "      <th>55</th>\n",
       "      <td>56</td>\n",
       "      <td>Hit the big time</td>\n",
       "    </tr>\n",
       "    <tr>\n",
       "      <th>56</th>\n",
       "      <td>57</td>\n",
       "      <td>Year in, year out</td>\n",
       "    </tr>\n",
       "    <tr>\n",
       "      <th>57</th>\n",
       "      <td>58</td>\n",
       "      <td>Down for the count</td>\n",
       "    </tr>\n",
       "    <tr>\n",
       "      <th>58</th>\n",
       "      <td>59</td>\n",
       "      <td>Get bent out of shape</td>\n",
       "    </tr>\n",
       "    <tr>\n",
       "      <th>59</th>\n",
       "      <td>60</td>\n",
       "      <td>Go down in a blaze of glory</td>\n",
       "    </tr>\n",
       "    <tr>\n",
       "      <th>60</th>\n",
       "      <td>61</td>\n",
       "      <td>No pain, No gain</td>\n",
       "    </tr>\n",
       "    <tr>\n",
       "      <th>61</th>\n",
       "      <td>62</td>\n",
       "      <td>The last straw</td>\n",
       "    </tr>\n",
       "    <tr>\n",
       "      <th>62</th>\n",
       "      <td>63</td>\n",
       "      <td>Take a rain check</td>\n",
       "    </tr>\n",
       "    <tr>\n",
       "      <th>63</th>\n",
       "      <td>64</td>\n",
       "      <td>Mile in a minute</td>\n",
       "    </tr>\n",
       "    <tr>\n",
       "      <th>64</th>\n",
       "      <td>65</td>\n",
       "      <td>Golden rules</td>\n",
       "    </tr>\n",
       "  </tbody>\n",
       "</table>\n",
       "</div>"
      ],
      "text/plain": [
       "    Filename                     Solution\n",
       "50        51                   Side burns\n",
       "51        52             Carbon footprint\n",
       "52        53               Back to school\n",
       "53        54   A wolf in sheep's clothing\n",
       "54        55                Time is money\n",
       "55        56             Hit the big time\n",
       "56        57            Year in, year out\n",
       "57        58           Down for the count\n",
       "58        59        Get bent out of shape\n",
       "59        60  Go down in a blaze of glory\n",
       "60        61             No pain, No gain\n",
       "61        62               The last straw\n",
       "62        63            Take a rain check\n",
       "63        64             Mile in a minute\n",
       "64        65                 Golden rules"
      ]
     },
     "execution_count": 26,
     "metadata": {},
     "output_type": "execute_result"
    }
   ],
   "source": [
    "annot.iloc[50:65]"
   ]
  },
  {
   "cell_type": "code",
   "execution_count": 27,
   "metadata": {},
   "outputs": [
    {
     "name": "stdout",
     "output_type": "stream",
     "text": [
      "    Filename                     Solution\n",
      "50        51                   Side burns\n",
      "51        52             Carbon footprint\n",
      "52        53               Back to school\n",
      "53        54   A wolf in sheep's clothing\n",
      "54        55                Time is money\n",
      "55        56             Hit the big time\n",
      "56        57            Year in, year out\n",
      "57        58           Down for the count\n",
      "58        59        Get bent out of shape\n",
      "59        60  Go down in a blaze of glory\n",
      "60        61             No pain, No gain\n",
      "61        62               The last straw\n",
      "62        63            Take a rain check\n",
      "63        64             Mile in a minute\n",
      "64        65                 Golden rules\n"
     ]
    }
   ],
   "source": [
    "print(annot.iloc[50:65])"
   ]
  },
  {
   "cell_type": "code",
   "execution_count": 28,
   "metadata": {},
   "outputs": [
    {
     "name": "stdout",
     "output_type": "stream",
     "text": [
      "['Filename', 'Solution']\n"
     ]
    }
   ],
   "source": [
    "print(annot.columns.tolist())"
   ]
  },
  {
   "cell_type": "code",
   "execution_count": 29,
   "metadata": {},
   "outputs": [],
   "source": [
    "annot.dropna(how='all', inplace=True)"
   ]
  },
  {
   "cell_type": "code",
   "execution_count": 30,
   "metadata": {},
   "outputs": [],
   "source": [
    "annot.to_csv('../data/raw/annotationx.csv', index=False)"
   ]
  },
  {
   "cell_type": "code",
   "execution_count": 31,
   "metadata": {},
   "outputs": [
    {
     "name": "stdout",
     "output_type": "stream",
     "text": [
      "     Filename                         Solution\n",
      "167       168                 Handily defeated\n",
      "168       169  Everything but the kitchen sink\n",
      "169       170           Read between the lines\n",
      "170       171         Think of the big picture\n",
      "171       172                 Cut to the chase\n"
     ]
    }
   ],
   "source": [
    "print(annot.tail())"
   ]
  },
  {
   "cell_type": "code",
   "execution_count": null,
   "metadata": {},
   "outputs": [],
   "source": []
  },
  {
   "cell_type": "markdown",
   "metadata": {},
   "source": [
    "# fixes"
   ]
  },
  {
   "cell_type": "code",
   "execution_count": 1,
   "metadata": {},
   "outputs": [],
   "source": [
    "import pandas as pd\n",
    "import os"
   ]
  },
  {
   "cell_type": "code",
   "execution_count": 4,
   "metadata": {},
   "outputs": [],
   "source": [
    "data = pd.read_csv(\"../data/raw/annotations.csv\", \n",
    "                   quotechar='\"',  # Specify quote character\n",
    "                   skipinitialspace=True,  # Skip spaces after delimiter\n",
    "                   encoding='utf-8')  # Specify encoding"
   ]
  },
  {
   "cell_type": "code",
   "execution_count": 5,
   "metadata": {},
   "outputs": [
    {
     "name": "stdout",
     "output_type": "stream",
     "text": [
      "Original data shape: (172, 2)\n",
      "Original data head:\n",
      "   Filename                   Solution\n",
      "0         1       A drop in the bucket\n",
      "1         2              first edition\n",
      "2         3            kick the bucket\n",
      "3         4  feeling under the weather\n",
      "4         5          don't cut corners\n"
     ]
    }
   ],
   "source": [
    "print(\"Original data shape:\", data.shape)\n",
    "print(\"Original data head:\")\n",
    "print(data.head())"
   ]
  },
  {
   "cell_type": "code",
   "execution_count": 6,
   "metadata": {},
   "outputs": [
    {
     "name": "stdout",
     "output_type": "stream",
     "text": [
      "\n",
      "Filename column values (first 10):\n",
      "[1, 2, 3, 4, 5, 6, 7, 8, 9, 10]\n",
      "\n",
      "Filename column data type: int64\n"
     ]
    }
   ],
   "source": [
    "print(\"\\nFilename column values (first 10):\")\n",
    "print(data['Filename'].head(10).tolist())\n",
    "print(\"\\nFilename column data type:\", data['Filename'].dtype)"
   ]
  },
  {
   "cell_type": "code",
   "execution_count": 7,
   "metadata": {},
   "outputs": [
    {
     "name": "stdout",
     "output_type": "stream",
     "text": [
      "\n",
      "Actual image files (first 10): ['001.jpg', '002.jpg', '003.jpg', '004.jpg', '005.jpg', '006.jpg', '007.jpg', '008.jpg', '009.jpg', '010.jpg']\n",
      "Total image files: 172\n",
      "File: 001.jpg -> Without extension: 001\n",
      "File: 002.jpg -> Without extension: 002\n",
      "File: 003.jpg -> Without extension: 003\n",
      "File: 004.jpg -> Without extension: 004\n",
      "File: 005.jpg -> Without extension: 005\n",
      "File: 006.jpg -> Without extension: 006\n",
      "File: 007.jpg -> Without extension: 007\n",
      "File: 008.jpg -> Without extension: 008\n",
      "File: 009.jpg -> Without extension: 009\n",
      "File: 010.jpg -> Without extension: 010\n"
     ]
    }
   ],
   "source": [
    "img_dir = '../data/raw/img'\n",
    "if os.path.exists(img_dir):\n",
    "    actual_files = sorted([f for f in os.listdir(img_dir) if f.lower().endswith(('.jpg', '.jpeg', '.png'))])\n",
    "    print(f\"\\nActual image files (first 10): {actual_files[:10]}\")\n",
    "    print(f\"Total image files: {len(actual_files)}\")\n",
    "    \n",
    "    # Extract the numeric part from actual filenames\n",
    "    actual_numbers = []\n",
    "    for f in actual_files[:10]:\n",
    "        name_without_ext = os.path.splitext(f)[0]\n",
    "        print(f\"File: {f} -> Without extension: {name_without_ext}\")\n",
    "        actual_numbers.append(name_without_ext)\n",
    "else:\n",
    "    print(f\"\\nImage directory {img_dir} doesn't exist!\")"
   ]
  },
  {
   "cell_type": "code",
   "execution_count": 8,
   "metadata": {},
   "outputs": [
    {
     "name": "stdout",
     "output_type": "stream",
     "text": [
      "\n",
      "After zero-padding:\n",
      "Fixed filename column (first 10):\n",
      "['001', '002', '003', '004', '005', '006', '007', '008', '009', '010']\n"
     ]
    }
   ],
   "source": [
    "# Convert numbers to zero-padded format\n",
    "data_fixed = data.copy()\n",
    "\n",
    "# Convert filename to zero-padded 3-digit format\n",
    "data_fixed['Filename'] = data_fixed['Filename'].astype(str).str.zfill(3)\n",
    "\n",
    "print(\"\\nAfter zero-padding:\")\n",
    "print(\"Fixed filename column (first 10):\")\n",
    "print(data_fixed['Filename'].head(10).tolist())"
   ]
  },
  {
   "cell_type": "code",
   "execution_count": 9,
   "metadata": {},
   "outputs": [
    {
     "name": "stdout",
     "output_type": "stream",
     "text": [
      "\n",
      "Matching files: 172 out of 172 CSV entries\n",
      "Sample matches: ['001', '002', '003', '004', '005', '006', '007', '008', '009', '010']\n"
     ]
    }
   ],
   "source": [
    "if os.path.exists(img_dir):\n",
    "    # Check how many filenames now match actual image files\n",
    "    actual_basenames = [os.path.splitext(f)[0] for f in actual_files]\n",
    "    csv_filenames = data_fixed['Filename'].tolist()\n",
    "    \n",
    "    matches = set(csv_filenames) & set(actual_basenames)\n",
    "    print(f\"\\nMatching files: {len(matches)} out of {len(csv_filenames)} CSV entries\")\n",
    "    print(f\"Sample matches: {sorted(list(matches))[:10]}\")\n",
    "    \n",
    "    # Show mismatches\n",
    "    csv_set = set(csv_filenames)\n",
    "    img_set = set(actual_basenames)\n",
    "    \n",
    "    only_in_csv = csv_set - img_set\n",
    "    only_in_img = img_set - csv_set\n",
    "    \n",
    "    if only_in_csv:\n",
    "        print(f\"\\nFilenames in CSV but not in images: {sorted(list(only_in_csv))[:10]}\")\n",
    "    if only_in_img:\n",
    "        print(f\"\\nImages without CSV entries: {sorted(list(only_in_img))[:10]}\")"
   ]
  },
  {
   "cell_type": "code",
   "execution_count": 10,
   "metadata": {},
   "outputs": [
    {
     "name": "stdout",
     "output_type": "stream",
     "text": [
      "\n",
      "Final dataset shape: (172, 2)\n",
      "Final dataset head:\n",
      "  Filename                   Solution\n",
      "0      001       A drop in the bucket\n",
      "1      002              first edition\n",
      "2      003            kick the bucket\n",
      "3      004  feeling under the weather\n",
      "4      005          don't cut corners\n"
     ]
    }
   ],
   "source": [
    "data_final = data_fixed[['Filename', 'Solution']].copy()\n",
    "\n",
    "# Remove any rows with missing data\n",
    "data_final = data_final.dropna()\n",
    "\n",
    "# Remove any duplicate filenames (keep first occurrence)\n",
    "data_final = data_final.drop_duplicates(subset=['Filename'], keep='first')\n",
    "\n",
    "print(f\"\\nFinal dataset shape: {data_final.shape}\")\n",
    "print(\"Final dataset head:\")\n",
    "print(data_final.head())"
   ]
  },
  {
   "cell_type": "code",
   "execution_count": 11,
   "metadata": {},
   "outputs": [
    {
     "name": "stdout",
     "output_type": "stream",
     "text": [
      "\n",
      "✅ Saved corrected annotations to: ../data/raw/annotations.csv\n",
      "\n",
      "Verification - saved file shape: (172, 2)\n",
      "Verification - first few rows:\n",
      "   Filename                   Solution\n",
      "0         1       A drop in the bucket\n",
      "1         2              first edition\n",
      "2         3            kick the bucket\n",
      "3         4  feeling under the weather\n",
      "4         5          don't cut corners\n"
     ]
    }
   ],
   "source": [
    "output_path = '../data/raw/annotatx`ions.csv'\n",
    "data_final.to_csv(output_path, index=False)\n",
    "\n",
    "print(f\"\\n✅ Saved corrected annotations to: {output_path}\")\n",
    "\n",
    "# Verify the saved file\n",
    "verification = pd.read_csv(output_path)\n",
    "print(f\"\\nVerification - saved file shape: {verification.shape}\")\n",
    "print(\"Verification - first few rows:\")\n",
    "print(verification.head())"
   ]
  },
  {
   "cell_type": "code",
   "execution_count": 12,
   "metadata": {},
   "outputs": [
    {
     "name": "stdout",
     "output_type": "stream",
     "text": [
      "\n",
      "🎉 SUCCESS! Loaded 172 image-annotation pairs\n",
      "  1. 001.jpg -> A drop in the bucket\n",
      "  2. 002.jpg -> first edition\n",
      "  3. 003.jpg -> kick the bucket\n",
      "  4. 004.jpg -> feeling under the weather\n",
      "  5. 005.jpg -> don't cut corners\n"
     ]
    }
   ],
   "source": [
    "import sys\n",
    "sys.path.append('../')\n",
    "\n",
    "try:\n",
    "    from data.load_data import load_dataset\n",
    "    \n",
    "    # Test loading the dataset\n",
    "    dataset = load_dataset('../data/raw/img', '../data/raw/annotations.csv')\n",
    "    print(f\"\\n🎉 SUCCESS! Loaded {len(dataset)} image-annotation pairs\")\n",
    "    \n",
    "    # Show first few examples\n",
    "    for i, (img_path, solution) in enumerate(dataset[:5]):\n",
    "        img_name = os.path.basename(img_path)\n",
    "        print(f\"  {i+1}. {img_name} -> {solution}\")\n",
    "        \n",
    "except Exception as e:\n",
    "    print(f\"\\n❌ Error testing load_dataset: {e}\")\n",
    "    print(\"You may need to apply the other code fixes first\")"
   ]
  },
  {
   "cell_type": "code",
   "execution_count": 13,
   "metadata": {},
   "outputs": [
    {
     "name": "stdout",
     "output_type": "stream",
     "text": [
      "\n",
      "✅ rebus_prompts.json exists - prompt building should work\n"
     ]
    }
   ],
   "source": [
    "try:\n",
    "    # Test if prompt builder can find examples (after you create the JSON file)\n",
    "    if os.path.exists('../data/sample/rebus_prompts.json'):\n",
    "        print(\"\\n✅ rebus_prompts.json exists - prompt building should work\")\n",
    "    else:\n",
    "        print(\"\\n⚠️  Still need to create data/sample/rebus_prompts.json\")\n",
    "        print(\"Run the setup script or create it manually\")\n",
    "        \n",
    "except Exception as e:\n",
    "    print(f\"\\nNote: {e}\")"
   ]
  },
  {
   "cell_type": "code",
   "execution_count": null,
   "metadata": {},
   "outputs": [],
   "source": []
  }
 ],
 "metadata": {
  "kernelspec": {
   "display_name": "rebusVLMs",
   "language": "python",
   "name": "python3"
  },
  "language_info": {
   "codemirror_mode": {
    "name": "ipython",
    "version": 3
   },
   "file_extension": ".py",
   "mimetype": "text/x-python",
   "name": "python",
   "nbconvert_exporter": "python",
   "pygments_lexer": "ipython3",
   "version": "3.13.3"
  }
 },
 "nbformat": 4,
 "nbformat_minor": 2
}
